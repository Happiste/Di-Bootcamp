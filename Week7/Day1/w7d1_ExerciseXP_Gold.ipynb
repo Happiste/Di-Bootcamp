{
  "nbformat": 4,
  "nbformat_minor": 0,
  "metadata": {
    "colab": {
      "provenance": []
    },
    "kernelspec": {
      "name": "python3",
      "display_name": "Python 3"
    },
    "language_info": {
      "name": "python"
    }
  },
  "cells": [
    {
      "cell_type": "markdown",
      "source": [
        "##Exercise 1 : Web Page Availability Checker\n"
      ],
      "metadata": {
        "id": "SD17Ryx1J3x8"
      }
    },
    {
      "cell_type": "code",
      "execution_count": 5,
      "metadata": {
        "colab": {
          "base_uri": "https://localhost:8080/",
          "height": 36
        },
        "id": "VNWBnx22Jx2-",
        "outputId": "7d464c25-6d4c-4ad2-b974-70ca042216e4"
      },
      "outputs": [
        {
          "output_type": "execute_result",
          "data": {
            "text/plain": [
              "'the page has been found: 200'"
            ],
            "application/vnd.google.colaboratory.intrinsic+json": {
              "type": "string"
            }
          },
          "metadata": {},
          "execution_count": 5
        }
      ],
      "source": [
        "import requests\n",
        "\n",
        "def get_response(url):\n",
        "  response = requests.get(url)\n",
        "  if response.status_code == 200:\n",
        "    return f'the page has been found: {response.status_code}'\n",
        "  elif response.status_code == 404:\n",
        "    return f'the page has not been found: {response.status_code}'\n",
        "  else:\n",
        "    return None\n",
        "\n",
        "get_response('https://www.google.com')"
      ]
    },
    {
      "cell_type": "markdown",
      "source": [
        "##Exercise 2 : Data.gov Dataset Counter"
      ],
      "metadata": {
        "id": "WWDhEhEnLDwO"
      }
    },
    {
      "cell_type": "code",
      "source": [
        "from bs4 import BeautifulSoup\n",
        "\n",
        "\n",
        "response = requests.get('https://data.gov/')\n",
        "if response.status_code == 200:\n",
        "    soup = BeautifulSoup(response.text, 'html.parser')\n",
        "    dataset_count = soup.find('span', class_=\"text-color-red\")\n",
        "    print(f'there {dataset_count.get_text()} dataset currently avaible on data.org')\n",
        "elif response.status_code == 404:\n",
        "    print(f'the page has not been found: {response.status_code}')"
      ],
      "metadata": {
        "colab": {
          "base_uri": "https://localhost:8080/"
        },
        "id": "60RsL_sDLGEY",
        "outputId": "380622fa-7921-4940-e118-970b8821cde8"
      },
      "execution_count": 12,
      "outputs": [
        {
          "output_type": "stream",
          "name": "stdout",
          "text": [
            "there 301,685 dataset currently avaible on data.org\n"
          ]
        }
      ]
    },
    {
      "cell_type": "markdown",
      "source": [
        "##Exercise 3 : Latest Dataset Identifier"
      ],
      "metadata": {
        "id": "EBJF7rBqNZJL"
      }
    },
    {
      "cell_type": "code",
      "source": [
        "response = requests.get('https://catalog.data.gov/dataset?q=&sort=metadata_created+desc')\n",
        "if response.status_code == 200:\n",
        "  soup = BeautifulSoup(response.text, 'html.parser')\n",
        "  dataset_section = soup.find('ul', class_=\"dataset-list unstyled\")\n",
        "  last_dataset = dataset_section.find('a', href=\"/dataset/raw-unspeciated-megan-version-3-2-output-from-mpas-cmaq-version-1-0-a-full-year-on-120-km-\")\n",
        "print(f'the last data set is:\\n{last_dataset.get_text()}')"
      ],
      "metadata": {
        "colab": {
          "base_uri": "https://localhost:8080/"
        },
        "id": "3Syv1SBfNfns",
        "outputId": "80e3edd2-dcf3-4e50-f90a-764b0c54205f"
      },
      "execution_count": 21,
      "outputs": [
        {
          "output_type": "stream",
          "name": "stdout",
          "text": [
            "the last data set is:\n",
            "Raw (unspeciated) MEGAN version 3.2 output from MPAS-CMAQ version 1.0. A full year on 120 km uniform mesh.\n"
          ]
        }
      ]
    },
    {
      "cell_type": "markdown",
      "source": [
        "##Exercise 4 : HTML Tag Extractor"
      ],
      "metadata": {
        "id": "WFt1xPL6Qgf6"
      }
    },
    {
      "cell_type": "code",
      "source": [
        "response = requests.get('https://example.com')\n",
        "if response.status_code == 200:\n",
        "  soup = BeautifulSoup(response.text, 'html.parser')\n",
        "  h1 = soup.find('h1')\n",
        "print(f'h1 tag from example.com: {h1}')"
      ],
      "metadata": {
        "colab": {
          "base_uri": "https://localhost:8080/"
        },
        "id": "v8qKRewqQhGm",
        "outputId": "ca2ce8ed-8031-4755-81cc-caea37e1a41d"
      },
      "execution_count": 25,
      "outputs": [
        {
          "output_type": "stream",
          "name": "stdout",
          "text": [
            "h1 tag from example.com: <h1>Example Domain</h1>\n"
          ]
        }
      ]
    },
    {
      "cell_type": "markdown",
      "source": [
        "##Exercise 5 : Wikipedia Image Link Scraper"
      ],
      "metadata": {
        "id": "pj8_vBjPRKf-"
      }
    },
    {
      "cell_type": "code",
      "source": [
        "response = requests.get('https://en.wikipedia.org/wiki/Peter_Jeffrey_(RAAF_officer)')\n",
        "if response.status_code == 200:\n",
        "  soup = BeautifulSoup(response.text, 'html.parser')\n",
        "  main = soup.find('main', class_=\"mw-body\")\n",
        "  imgs = main.find_all('img')\n",
        "  for img in imgs:\n",
        "        img_url = img.get('src')\n",
        "        if img_url:\n",
        "            print(img_url)\n"
      ],
      "metadata": {
        "colab": {
          "base_uri": "https://localhost:8080/"
        },
        "id": "Xr0AL03pROEQ",
        "outputId": "5f636fda-b8c1-47be-80b5-f5ee0998db98"
      },
      "execution_count": 33,
      "outputs": [
        {
          "output_type": "stream",
          "name": "stdout",
          "text": [
            "//upload.wikimedia.org/wikipedia/en/thumb/e/e7/Cscr-featured.svg/20px-Cscr-featured.svg.png\n",
            "//upload.wikimedia.org/wikipedia/commons/thumb/a/af/NlaJeffrey1942-43.jpg/220px-NlaJeffrey1942-43.jpg\n",
            "//upload.wikimedia.org/wikipedia/commons/thumb/c/c5/008315JeffreyTurnbull1941.jpg/260px-008315JeffreyTurnbull1941.jpg\n",
            "//upload.wikimedia.org/wikipedia/commons/e/ea/021807CameronJeffrey1941.jpg\n",
            "//upload.wikimedia.org/wikipedia/commons/thumb/9/92/AC0072JeffreyTruscottKittyhawks1942.jpg/280px-AC0072JeffreyTruscottKittyhawks1942.jpg\n",
            "//upload.wikimedia.org/wikipedia/commons/thumb/2/26/VIC1689Jeffrey1945.jpg/280px-VIC1689Jeffrey1945.jpg\n",
            "//upload.wikimedia.org/wikipedia/en/thumb/4/4a/Commons-logo.svg/30px-Commons-logo.svg.png\n",
            "https://login.wikimedia.org/wiki/Special:CentralAutoLogin/start?useformat=desktop&type=1x1&usesul3=0\n"
          ]
        }
      ]
    },
    {
      "cell_type": "code",
      "source": [
        "from IPython.display import Image, display\n",
        "\n",
        "base_url = 'https://en.wikipedia.org/wiki/Peter_Jeffrey_(RAAF_officer)#/media/File:'\n",
        "for img in imgs:\n",
        "    img_url = img.get('src')\n",
        "    if img_url:\n",
        "        display(Image(url=img_url))"
      ],
      "metadata": {
        "colab": {
          "base_uri": "https://localhost:8080/",
          "height": 1000
        },
        "id": "GbtgbO5jSrxc",
        "outputId": "9e5d65a5-5d5f-4f3d-8c4a-1653d5dd1076"
      },
      "execution_count": 34,
      "outputs": [
        {
          "output_type": "display_data",
          "data": {
            "text/html": [
              "<img src=\"//upload.wikimedia.org/wikipedia/en/thumb/e/e7/Cscr-featured.svg/20px-Cscr-featured.svg.png\"/>"
            ],
            "text/plain": [
              "<IPython.core.display.Image object>"
            ]
          },
          "metadata": {}
        },
        {
          "output_type": "display_data",
          "data": {
            "text/html": [
              "<img src=\"//upload.wikimedia.org/wikipedia/commons/thumb/a/af/NlaJeffrey1942-43.jpg/220px-NlaJeffrey1942-43.jpg\"/>"
            ],
            "text/plain": [
              "<IPython.core.display.Image object>"
            ]
          },
          "metadata": {}
        },
        {
          "output_type": "display_data",
          "data": {
            "text/html": [
              "<img src=\"//upload.wikimedia.org/wikipedia/commons/thumb/c/c5/008315JeffreyTurnbull1941.jpg/260px-008315JeffreyTurnbull1941.jpg\"/>"
            ],
            "text/plain": [
              "<IPython.core.display.Image object>"
            ]
          },
          "metadata": {}
        },
        {
          "output_type": "display_data",
          "data": {
            "text/html": [
              "<img src=\"//upload.wikimedia.org/wikipedia/commons/e/ea/021807CameronJeffrey1941.jpg\"/>"
            ],
            "text/plain": [
              "<IPython.core.display.Image object>"
            ]
          },
          "metadata": {}
        },
        {
          "output_type": "display_data",
          "data": {
            "text/html": [
              "<img src=\"//upload.wikimedia.org/wikipedia/commons/thumb/9/92/AC0072JeffreyTruscottKittyhawks1942.jpg/280px-AC0072JeffreyTruscottKittyhawks1942.jpg\"/>"
            ],
            "text/plain": [
              "<IPython.core.display.Image object>"
            ]
          },
          "metadata": {}
        },
        {
          "output_type": "display_data",
          "data": {
            "text/html": [
              "<img src=\"//upload.wikimedia.org/wikipedia/commons/thumb/2/26/VIC1689Jeffrey1945.jpg/280px-VIC1689Jeffrey1945.jpg\"/>"
            ],
            "text/plain": [
              "<IPython.core.display.Image object>"
            ]
          },
          "metadata": {}
        },
        {
          "output_type": "display_data",
          "data": {
            "text/html": [
              "<img src=\"//upload.wikimedia.org/wikipedia/en/thumb/4/4a/Commons-logo.svg/30px-Commons-logo.svg.png\"/>"
            ],
            "text/plain": [
              "<IPython.core.display.Image object>"
            ]
          },
          "metadata": {}
        },
        {
          "output_type": "display_data",
          "data": {
            "text/html": [
              "<img src=\"https://login.wikimedia.org/wiki/Special:CentralAutoLogin/start?useformat=desktop&type=1x1&usesul3=0\"/>"
            ],
            "text/plain": [
              "<IPython.core.display.Image object>"
            ]
          },
          "metadata": {}
        }
      ]
    },
    {
      "cell_type": "markdown",
      "source": [
        "##Exercise 6 : Web Traffic Analysis Script"
      ],
      "metadata": {
        "id": "gaU7UhU-Ve-8"
      }
    },
    {
      "cell_type": "code",
      "source": [],
      "metadata": {
        "id": "D0-oMADQVgsW"
      },
      "execution_count": null,
      "outputs": []
    }
  ]
}
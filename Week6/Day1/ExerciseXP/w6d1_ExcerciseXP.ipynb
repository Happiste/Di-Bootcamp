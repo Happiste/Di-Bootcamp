{
  "nbformat": 4,
  "nbformat_minor": 0,
  "metadata": {
    "colab": {
      "provenance": []
    },
    "kernelspec": {
      "name": "python3",
      "display_name": "Python 3"
    },
    "language_info": {
      "name": "python"
    }
  },
  "cells": [
    {
      "cell_type": "code",
      "execution_count": 12,
      "metadata": {
        "colab": {
          "base_uri": "https://localhost:8080/"
        },
        "id": "Mvs8SIaweBJg",
        "outputId": "02708853-7095-471b-9edd-b9668258db6e"
      },
      "outputs": [
        {
          "output_type": "execute_result",
          "data": {
            "text/plain": [
              "35"
            ]
          },
          "metadata": {},
          "execution_count": 12
        }
      ],
      "source": [
        "import numpy as np\n"
      ]
    },
    {
      "cell_type": "markdown",
      "source": [
        "##🌟 Exercise 1 : Array Creation and Manipulation"
      ],
      "metadata": {
        "id": "w5z6YiRaxUG_"
      }
    },
    {
      "cell_type": "code",
      "source": [
        "my_array = np.arange(1,10)\n",
        "my_array"
      ],
      "metadata": {
        "colab": {
          "base_uri": "https://localhost:8080/"
        },
        "id": "x_29dMv4eOI5",
        "outputId": "dd5b8843-f3af-46db-9e95-9b2f3cb1f93b"
      },
      "execution_count": 26,
      "outputs": [
        {
          "output_type": "execute_result",
          "data": {
            "text/plain": [
              "array([1, 2, 3, 4, 5, 6, 7, 8, 9])"
            ]
          },
          "metadata": {},
          "execution_count": 26
        }
      ]
    },
    {
      "cell_type": "markdown",
      "source": [
        "## 🌟 Exercise 2 : Type Conversion and Array Operations"
      ],
      "metadata": {
        "id": "7Y1Ipiy5xX4K"
      }
    },
    {
      "cell_type": "code",
      "source": [
        "my_list = [3.14, 2.17, 0, 1, 2]\n",
        "my_array = np.array(my_list)\n",
        "my_int_array = my_array.astype(int)\n",
        "my_int_array"
      ],
      "metadata": {
        "colab": {
          "base_uri": "https://localhost:8080/"
        },
        "id": "pye7iO2GxfXP",
        "outputId": "df68734b-7c80-4e12-ef79-20b20b589c30"
      },
      "execution_count": 21,
      "outputs": [
        {
          "output_type": "execute_result",
          "data": {
            "text/plain": [
              "array([3, 2, 0, 1, 2])"
            ]
          },
          "metadata": {},
          "execution_count": 21
        }
      ]
    },
    {
      "cell_type": "markdown",
      "source": [
        "## 🌟 Exercise 3 : Working with Multi-Dimensional Arrays"
      ],
      "metadata": {
        "id": "chCp4alCyO0D"
      }
    },
    {
      "cell_type": "code",
      "source": [
        "my_2d_array = my_array.reshape(3, 3)\n",
        "my_2d_array"
      ],
      "metadata": {
        "colab": {
          "base_uri": "https://localhost:8080/"
        },
        "id": "eoM4twbQyRVF",
        "outputId": "fe3c2cbf-278e-41c3-be00-962cd8aa922a"
      },
      "execution_count": 30,
      "outputs": [
        {
          "output_type": "execute_result",
          "data": {
            "text/plain": [
              "array([[1, 2, 3],\n",
              "       [4, 5, 6],\n",
              "       [7, 8, 9]])"
            ]
          },
          "metadata": {},
          "execution_count": 30
        }
      ]
    },
    {
      "cell_type": "markdown",
      "source": [
        "## 🌟 Exercise 4 : Creating Multi-Dimensional Array with Random Numbers"
      ],
      "metadata": {
        "id": "jp54bdfAy7kp"
      }
    },
    {
      "cell_type": "code",
      "source": [
        "array = np.random.rand(4,5)\n",
        "array"
      ],
      "metadata": {
        "colab": {
          "base_uri": "https://localhost:8080/"
        },
        "id": "RCikFRQhzAsf",
        "outputId": "9221521e-1f1c-4f4a-b50f-1ef478984fc8"
      },
      "execution_count": 32,
      "outputs": [
        {
          "output_type": "execute_result",
          "data": {
            "text/plain": [
              "array([[0.97656001, 0.99303078, 0.76839845, 0.98510237, 0.68930536],\n",
              "       [0.5934007 , 0.09456408, 0.97440635, 0.29900707, 0.57942849],\n",
              "       [0.72027253, 0.31419307, 0.95973804, 0.29783933, 0.19426977],\n",
              "       [0.578044  , 0.9794696 , 0.67027596, 0.48553494, 0.80475899]])"
            ]
          },
          "metadata": {},
          "execution_count": 32
        }
      ]
    },
    {
      "cell_type": "markdown",
      "source": [
        "## 🌟 Exercise 5 : Indexing Arrays"
      ],
      "metadata": {
        "id": "SMaffV7r1YfK"
      }
    },
    {
      "cell_type": "code",
      "source": [
        "my_array = np.arange(1,13)\n",
        "my_array = my_array.reshape(3,4)\n",
        "second_row = my_array[1, :]\n",
        "second_row"
      ],
      "metadata": {
        "colab": {
          "base_uri": "https://localhost:8080/"
        },
        "id": "6VmQ97o71dGg",
        "outputId": "89c0f822-27f4-4e04-95fc-4ff838c67340"
      },
      "execution_count": 47,
      "outputs": [
        {
          "output_type": "execute_result",
          "data": {
            "text/plain": [
              "array([5, 6, 7, 8])"
            ]
          },
          "metadata": {},
          "execution_count": 47
        }
      ]
    },
    {
      "cell_type": "markdown",
      "source": [
        "\n",
        "## 🌟 Exercise 6 : Reversing elements"
      ],
      "metadata": {
        "id": "8yzd8piK4Utz"
      }
    },
    {
      "cell_type": "code",
      "source": [
        "array = np.array([9, 8, 7, 6, 5, 4, 3, 2, 1, 0])\n",
        "array[::-1]"
      ],
      "metadata": {
        "colab": {
          "base_uri": "https://localhost:8080/"
        },
        "id": "T9lf8JvQ4ckU",
        "outputId": "ebf902b7-4164-43fd-a887-c841c9995ea4"
      },
      "execution_count": 51,
      "outputs": [
        {
          "output_type": "execute_result",
          "data": {
            "text/plain": [
              "array([0, 1, 2, 3, 4, 5, 6, 7, 8, 9])"
            ]
          },
          "metadata": {},
          "execution_count": 51
        }
      ]
    },
    {
      "cell_type": "markdown",
      "source": [
        "## 🌟 Exercise 7 : Identity Matrix"
      ],
      "metadata": {
        "id": "KY0iAPZJ5M3W"
      }
    },
    {
      "cell_type": "code",
      "source": [
        "matrix = np.eye(4)\n",
        "matrix"
      ],
      "metadata": {
        "colab": {
          "base_uri": "https://localhost:8080/"
        },
        "id": "goo8yUtO5RGq",
        "outputId": "d67c15fb-d8bc-4d1d-8e54-6b9fd07f76fc"
      },
      "execution_count": 53,
      "outputs": [
        {
          "output_type": "execute_result",
          "data": {
            "text/plain": [
              "array([[1., 0., 0., 0.],\n",
              "       [0., 1., 0., 0.],\n",
              "       [0., 0., 1., 0.],\n",
              "       [0., 0., 0., 1.]])"
            ]
          },
          "metadata": {},
          "execution_count": 53
        }
      ]
    },
    {
      "cell_type": "markdown",
      "source": [
        "## 🌟 Exercise 8 : Simple Aggregate Funcs"
      ],
      "metadata": {
        "id": "XIktK1CD7eiv"
      }
    },
    {
      "cell_type": "code",
      "source": [
        "array1d = np.arange(1, 21)\n",
        "sum = np.sum(array1d)\n",
        "avg = np.mean(array1d)\n",
        "print(f'Sum:{sum} Avg :{avg}')"
      ],
      "metadata": {
        "colab": {
          "base_uri": "https://localhost:8080/"
        },
        "id": "iDxcJDOC7gIO",
        "outputId": "2fa8d374-5b3a-4e01-c9b3-b23d17bf3b52"
      },
      "execution_count": 61,
      "outputs": [
        {
          "output_type": "stream",
          "name": "stdout",
          "text": [
            "Sum:210 Avg :10.5\n"
          ]
        }
      ]
    },
    {
      "cell_type": "markdown",
      "source": [
        "## 🌟 Exercise 9 : Create Array and Change its Structure"
      ],
      "metadata": {
        "id": "GmLRVMp39W7Y"
      }
    },
    {
      "cell_type": "code",
      "source": [
        "array = np.arange(1, 21)\n",
        "array = array.reshape(4,5)\n",
        "array"
      ],
      "metadata": {
        "colab": {
          "base_uri": "https://localhost:8080/"
        },
        "id": "SNHSZuCN9cnF",
        "outputId": "3f11c05a-aad2-4bb3-86aa-ed0a69de2e0a"
      },
      "execution_count": 64,
      "outputs": [
        {
          "output_type": "execute_result",
          "data": {
            "text/plain": [
              "array([[ 1,  2,  3,  4,  5],\n",
              "       [ 6,  7,  8,  9, 10],\n",
              "       [11, 12, 13, 14, 15],\n",
              "       [16, 17, 18, 19, 20]])"
            ]
          },
          "metadata": {},
          "execution_count": 64
        }
      ]
    },
    {
      "cell_type": "markdown",
      "source": [
        "## 🌟 Exercise 10 : Conditional Selection of Values"
      ],
      "metadata": {
        "id": "pnWtYptVDtqM"
      }
    },
    {
      "cell_type": "code",
      "source": [
        "odd_array = array[array % 2 != 0]\n",
        "odd_array"
      ],
      "metadata": {
        "colab": {
          "base_uri": "https://localhost:8080/"
        },
        "id": "BbXueqciDvZE",
        "outputId": "ee678951-fad4-4bd9-b710-108ef6020615"
      },
      "execution_count": 67,
      "outputs": [
        {
          "output_type": "execute_result",
          "data": {
            "text/plain": [
              "array([ 1,  3,  5,  7,  9, 11, 13, 15, 17, 19])"
            ]
          },
          "metadata": {},
          "execution_count": 67
        }
      ]
    }
  ]
}
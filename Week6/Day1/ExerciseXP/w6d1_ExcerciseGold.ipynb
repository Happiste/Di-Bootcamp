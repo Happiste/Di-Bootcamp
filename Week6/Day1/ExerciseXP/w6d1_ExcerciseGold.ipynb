{
  "nbformat": 4,
  "nbformat_minor": 0,
  "metadata": {
    "colab": {
      "provenance": []
    },
    "kernelspec": {
      "name": "python3",
      "display_name": "Python 3"
    },
    "language_info": {
      "name": "python"
    }
  },
  "cells": [
    {
      "cell_type": "code",
      "execution_count": 5,
      "metadata": {
        "colab": {
          "base_uri": "https://localhost:8080/"
        },
        "id": "aT2nGezEUWxK",
        "outputId": "bfaf21a3-d738-491d-d761-5b9a9d43ce9d"
      },
      "outputs": [
        {
          "output_type": "execute_result",
          "data": {
            "text/plain": [
              "array([[11, 39, 73, 62, 11],\n",
              "       [33, 75, 33, 35, 45],\n",
              "       [ 2, 57, 93, 84,  9],\n",
              "       [93, 74, 37,  9, 11],\n",
              "       [85, 30, 95, 58, 24]])"
            ]
          },
          "metadata": {},
          "execution_count": 5
        }
      ],
      "source": [
        "import pandas as pd\n",
        "import numpy as np\n",
        "\n",
        "matrix = np.random.uniform(1,100, [5,5])\n",
        "matrix = matrix.astype(int)\n",
        "matrix"
      ]
    },
    {
      "cell_type": "markdown",
      "source": [
        "##Exercise 1 : Minimum and Maximum of Random Array"
      ],
      "metadata": {
        "id": "OMYmL2HBWelk"
      }
    },
    {
      "cell_type": "code",
      "source": [
        "max_value = matrix.max()\n",
        "min_value = matrix.min()\n",
        "print(f'min value: {min_value}')\n",
        "print(f'max value: {max_value}')\n"
      ],
      "metadata": {
        "colab": {
          "base_uri": "https://localhost:8080/"
        },
        "id": "i2W6qzdqVdhI",
        "outputId": "08e570da-18e3-491a-8ba3-f56b3e9db482"
      },
      "execution_count": 6,
      "outputs": [
        {
          "output_type": "stream",
          "name": "stdout",
          "text": [
            "min value: 2\n",
            "max value: 95\n"
          ]
        }
      ]
    },
    {
      "cell_type": "markdown",
      "source": [
        "##Exercise 2 : Matrix Normalization"
      ],
      "metadata": {
        "id": "6uedNsyTWhxe"
      }
    },
    {
      "cell_type": "code",
      "source": [
        "std = np.std(matrix)\n",
        "mean = np.mean(matrix)\n",
        "matrix = (matrix - mean) / std\n",
        "matrix\n"
      ],
      "metadata": {
        "colab": {
          "base_uri": "https://localhost:8080/"
        },
        "id": "2XowRkWVWkdB",
        "outputId": "a159810b-7706-4a5b-e834-cc2d48645524"
      },
      "execution_count": 9,
      "outputs": [
        {
          "output_type": "execute_result",
          "data": {
            "text/plain": [
              "array([[-1.20920704, -0.27183724,  0.86639751,  0.49814509, -1.20920704],\n",
              "       [-0.4727022 ,  0.9333525 , -0.4727022 , -0.40574721, -0.07097228],\n",
              "       [-1.51050447,  0.33075763,  1.53594737,  1.23464993, -1.27616203],\n",
              "       [ 1.53594737,  0.89987501, -0.33879223, -1.27616203, -1.20920704],\n",
              "       [ 1.26812743, -0.57313468,  1.60290235,  0.36423512, -0.77399963]])"
            ]
          },
          "metadata": {},
          "execution_count": 9
        }
      ]
    },
    {
      "cell_type": "markdown",
      "source": [
        "## Exercise 3 : Evenly Spaced Elements in Array"
      ],
      "metadata": {
        "id": "qnjIbmS7WO2C"
      }
    },
    {
      "cell_type": "code",
      "source": [
        "array = np.linspace(0, 10, num=50, endpoint=False)\n",
        "array"
      ],
      "metadata": {
        "colab": {
          "base_uri": "https://localhost:8080/"
        },
        "id": "mF_jDV-XZd67",
        "outputId": "79c6808b-a68e-4b49-8057-ac7f1f5ffc2b"
      },
      "execution_count": 14,
      "outputs": [
        {
          "output_type": "execute_result",
          "data": {
            "text/plain": [
              "array([0. , 0.2, 0.4, 0.6, 0.8, 1. , 1.2, 1.4, 1.6, 1.8, 2. , 2.2, 2.4,\n",
              "       2.6, 2.8, 3. , 3.2, 3.4, 3.6, 3.8, 4. , 4.2, 4.4, 4.6, 4.8, 5. ,\n",
              "       5.2, 5.4, 5.6, 5.8, 6. , 6.2, 6.4, 6.6, 6.8, 7. , 7.2, 7.4, 7.6,\n",
              "       7.8, 8. , 8.2, 8.4, 8.6, 8.8, 9. , 9.2, 9.4, 9.6, 9.8])"
            ]
          },
          "metadata": {},
          "execution_count": 14
        }
      ]
    },
    {
      "cell_type": "markdown",
      "source": [
        "## Exercise 4 : Matrix Multiplication"
      ],
      "metadata": {
        "id": "v0cKv3TwaahV"
      }
    },
    {
      "cell_type": "code",
      "source": [
        "array1 = np.random.randint(1, 10, (5,3))\n",
        "\n",
        "array2 = np.random.randint(1, 10, (3,2))\n",
        "\n",
        "array3 = array1 @ array2\n",
        "array3\n"
      ],
      "metadata": {
        "colab": {
          "base_uri": "https://localhost:8080/"
        },
        "id": "PfUP3a6QaeTN",
        "outputId": "7885cf76-923c-4efd-861d-395f3e52b140"
      },
      "execution_count": 28,
      "outputs": [
        {
          "output_type": "execute_result",
          "data": {
            "text/plain": [
              "array([[ 99, 136],\n",
              "       [101, 146],\n",
              "       [ 79, 106],\n",
              "       [116, 172],\n",
              "       [ 60, 110]])"
            ]
          },
          "metadata": {},
          "execution_count": 28
        }
      ]
    },
    {
      "cell_type": "markdown",
      "source": [
        "## Exercise 5"
      ],
      "metadata": {
        "id": "QUiprgHnetQh"
      }
    },
    {
      "cell_type": "code",
      "source": [
        "a = np.random.randint(1, 100, (5,12))\n",
        "b = np.random.randint(1, 1150, (12,5))\n",
        "c = a @ b\n",
        "c"
      ],
      "metadata": {
        "colab": {
          "base_uri": "https://localhost:8080/"
        },
        "id": "Vnnzi9j-exfo",
        "outputId": "f9d23149-d18c-4e58-a811-3872ff10cafc"
      },
      "execution_count": 31,
      "outputs": [
        {
          "output_type": "execute_result",
          "data": {
            "text/plain": [
              "array([[444176, 379565, 428728, 422869, 446820],\n",
              "       [420832, 316022, 410103, 362524, 385042],\n",
              "       [342892, 246203, 283064, 365431, 284958],\n",
              "       [339619, 309074, 268533, 360413, 269085],\n",
              "       [451150, 420798, 490233, 507494, 546692]])"
            ]
          },
          "metadata": {},
          "execution_count": 31
        }
      ]
    }
  ]
}
{
  "nbformat": 4,
  "nbformat_minor": 0,
  "metadata": {
    "colab": {
      "provenance": []
    },
    "kernelspec": {
      "name": "python3",
      "display_name": "Python 3"
    },
    "language_info": {
      "name": "python"
    }
  },
  "cells": [
    {
      "cell_type": "markdown",
      "source": [
        "##🌟 Exercise 1 : Basic Usage of SciPy"
      ],
      "metadata": {
        "id": "iYwK-tNIuI04"
      }
    },
    {
      "cell_type": "code",
      "execution_count": 108,
      "metadata": {
        "colab": {
          "base_uri": "https://localhost:8080/"
        },
        "id": "bbRUQMVEbRfn",
        "outputId": "bacc1d5c-54ab-43f1-ae81-b3a48b99c6a5"
      },
      "outputs": [
        {
          "output_type": "stream",
          "name": "stdout",
          "text": [
            "[10 20 30 40 50]\n",
            "Skewness: 0.0\n",
            "Kurtosis: -1.3\n",
            "Mean: 30.0\n",
            "Median: 30.0\n",
            "Variance: 250.0\n",
            "Standard Deviation: 15.811388300841896\n"
          ]
        }
      ],
      "source": [
        "import numpy as np\n",
        "from scipy.stats import skew, kurtosis\n",
        "import pandas as pd\n",
        "\n",
        "from scipy import stats\n",
        "\n",
        "# Sample data\n",
        "data = [10, 20, 30, 40, 50]\n",
        "array = np.array(data, dtype=int)\n",
        "print(array)\n",
        "\n",
        "# Skewness\n",
        "skewness_value = stats.skew(array)\n",
        "print(\"Skewness:\", skewness_value)\n",
        "\n",
        "# Kurtosis\n",
        "kurtosis_value = stats.kurtosis(array)\n",
        "print(\"Kurtosis:\", kurtosis_value)\n",
        "\n",
        "# Mean\n",
        "mean_value = stats.tmean(array)\n",
        "print(\"Mean:\", mean_value)\n",
        "\n",
        "# Median\n",
        "median_value = stats.scoreatpercentile(array, 50)\n",
        "print(\"Median:\", median_value)\n",
        "\n",
        "# Variance\n",
        "variance_value = stats.tvar(array)\n",
        "print(\"Variance:\", variance_value)\n",
        "\n",
        "# Standard Deviation\n",
        "std_dev_value = stats.tstd(array)\n",
        "print(\"Standard Deviation:\", std_dev_value)\n"
      ]
    },
    {
      "cell_type": "markdown",
      "source": [
        "##🌟 Exercise 2 : Descriptive Statistics"
      ],
      "metadata": {
        "id": "-x47HfOCuVl8"
      }
    },
    {
      "cell_type": "code",
      "source": [
        "from scipy import stats\n",
        "\n",
        "# Sample dataset\n",
        "data = [12, 15, 13, 12, 18, 20, 22, 21]\n",
        "#Transforming my data set in array\n",
        "array = np.array(data, dtype=int)\n",
        "print(array)\n",
        "\n",
        "# Calculating descriptive statistics\n",
        "mean_value = stats.tmean(data)\n",
        "median_value = stats.scoreatpercentile(data, 50)\n",
        "variance_value = stats.tvar(data)\n",
        "std_dev_value = stats.tstd(data)\n",
        "\n",
        "# Printing results\n",
        "print(\"Mean:\", mean_value)\n",
        "print(\"Median:\", median_value)\n",
        "print(\"Variance:\", variance_value)\n",
        "print(\"Standard Deviation:\", std_dev_value)"
      ],
      "metadata": {
        "colab": {
          "base_uri": "https://localhost:8080/"
        },
        "id": "GG3gq1LYvFM3",
        "outputId": "30c1b3e9-6bc8-4dfd-97d7-45b6d8536f6f"
      },
      "execution_count": 80,
      "outputs": [
        {
          "output_type": "stream",
          "name": "stdout",
          "text": [
            "[12 15 13 12 18 20 22 21]\n",
            "Mean: 16.625\n",
            "Median: 16.5\n",
            "Variance: 17.125\n",
            "Standard Deviation: 4.138236339311712\n"
          ]
        }
      ]
    },
    {
      "cell_type": "markdown",
      "source": [
        "##🌟 Exercise 3 : Understanding Distributions"
      ],
      "metadata": {
        "id": "_5dPzamJzfK2"
      }
    },
    {
      "cell_type": "code",
      "source": [
        "import numpy as np\n",
        "import matplotlib.pyplot as plt\n",
        "from scipy.stats import norm\n",
        "\n",
        "# Parameters for the normal distribution\n",
        "mean = 50\n",
        "std_dev = 10\n",
        "\n",
        "# Generate x values (from 3 standard deviations below to above the mean)\n",
        "x = np.linspace(mean - 3*std_dev, mean + 3*std_dev, 1000)\n",
        "\n",
        "# Generate the PDF for the normal distribution\n",
        "pdf = norm.pdf(x, loc=mean, scale=std_dev)\n",
        "\n",
        "# Plot the distribution\n",
        "plt.figure(figsize=(8, 5))\n",
        "plt.plot(x, pdf, label='Normal Distribution', color='blue')\n",
        "plt.axvline(mean, color='red', linestyle='--', label='Mean (50)')\n",
        "plt.axvline(mean - std_dev, color='green', linestyle='--', label='1 Std Dev Below')\n",
        "plt.axvline(mean + std_dev, color='green', linestyle='--', label='1 Std Dev Above')\n",
        "plt.title('Normal Distribution (Mean=50, Std Dev=10)')\n",
        "plt.xlabel('x')\n",
        "plt.ylabel('Probability Density')\n",
        "plt.legend()\n",
        "plt.grid()\n",
        "plt.show()\n"
      ],
      "metadata": {
        "colab": {
          "base_uri": "https://localhost:8080/",
          "height": 487
        },
        "id": "pXW9JRyQze3L",
        "outputId": "6550c875-b940-4f6d-96a4-be60cbae053c"
      },
      "execution_count": 81,
      "outputs": [
        {
          "output_type": "display_data",
          "data": {
            "text/plain": [
              "<Figure size 800x500 with 1 Axes>"
            ],
            "image/png": "[encoded data removed]"
          },
          "metadata": {}
        }
      ]
    },
    {
      "cell_type": "markdown",
      "source": [
        "##🌟 Exercise 4 : T-Test Application"
      ],
      "metadata": {
        "id": "q87DBski1dFU"
      }
    },
    {
      "cell_type": "code",
      "source": [
        "array = np.random.normal(loc=50, scale=10, size=100)\n",
        "print(array)\n",
        "\n",
        "array2 = np.random.normal(loc=55, scale=10, size=100)\n",
        "print(array2)"
      ],
      "metadata": {
        "colab": {
          "base_uri": "https://localhost:8080/"
        },
        "id": "mT4HMdjZ1gQ-",
        "outputId": "6a212dc0-6d08-45a3-eeca-52301e6e3213"
      },
      "execution_count": 82,
      "outputs": [
        {
          "output_type": "stream",
          "name": "stdout",
          "text": [
            "[43.30927261 60.39904687 43.9438446  68.26009714 56.77925871 45.12088592\n",
            " 71.57308213 43.94285077 57.42095372 52.9929258  63.01741289 65.61511197\n",
            " 50.32004149 42.4658213  54.59972143 43.2228463  70.13387248 51.36535331\n",
            " 46.34678449 51.84680306 36.5287371  40.28385961 62.00413908 43.43105721\n",
            " 39.53089017 55.36652753 61.85704155 57.18953311 59.96047686 42.43204911\n",
            " 35.78189333 65.01333652 46.77320161 47.49166984 63.28194142 55.56230009\n",
            " 54.55887772 71.65002345 43.5648177  59.27840128 50.57013125 52.68592279\n",
            " 65.28468426 55.07835756 55.38296079 60.72507337 46.3504727  41.60790333\n",
            " 39.55190806 30.33643411 70.5620713  38.96791634 47.78746376 47.231867\n",
            " 53.07406698 58.15737213 58.60473488 44.16922561 48.32878286 52.8257995\n",
            " 47.51308874 66.07345576 54.90974952 57.34877786 56.62881269 61.73473857\n",
            " 51.81021559 37.03168052 53.99687952 43.48643106 44.71383318 55.86364019\n",
            " 62.38283071 50.21271577 53.08833013 67.02214945 52.40753179 76.01683114\n",
            " 55.65509646 32.39237241 57.53341621 53.81158385 62.89752754 56.73181351\n",
            " 48.61544016 37.75701764 47.90976743 41.49479546 44.1947655  55.88578404\n",
            " 66.69904504 53.9467153  38.04116938 54.44602668 61.96631487 43.90217096\n",
            " 48.65982833 50.14688195 42.15101687 56.48280434]\n",
            "[53.79051851 59.19532444 46.12507822 50.625417   62.22381358 51.27166848\n",
            " 72.26963851 51.00363814 57.24684726 64.32590832 40.81634267 37.39191188\n",
            " 39.74343685 67.62584103 49.48141854 80.58199286 49.35752401 56.84551303\n",
            " 70.42109953 75.06092888 75.61503577 67.08366231 65.24062526 60.92526949\n",
            " 62.78361076 49.48814284 46.81801117 54.96625543 53.29815377 50.46771951\n",
            " 61.96387447 64.55305209 55.88406886 69.77530081 43.58310886 53.06340541\n",
            " 47.83177679 36.33463383 54.17319314 53.78252492 70.13449743 61.30811685\n",
            " 44.75813176 73.54092566 67.21033696 60.82097703 52.73515901 45.40560763\n",
            " 51.27793224 65.8874862  73.84586306 70.43243528 50.11150578 43.80382567\n",
            " 56.40886247 37.31560634 58.23167714 53.52397414 50.33963498 39.05296933\n",
            " 60.13600107 49.6729916  43.30083164 26.27737787 54.72485095 72.72251597\n",
            " 71.61259215 50.42903743 48.9778794  59.68774256 45.01614561 58.017919\n",
            " 62.66080278 67.26933224 53.99845924 52.9632625  46.22017413 46.73119646\n",
            " 52.73521108 58.67365507 64.13584626 46.96821049 69.92688569 52.28876399\n",
            " 54.78632706 47.52788321 30.7575974  63.84045396 62.36843897 52.18672443\n",
            " 55.66990717 60.15939218 39.37454143 49.70947323 62.9426468  42.45710577\n",
            " 57.93557932 41.43418195 59.66429982 54.64358518]\n"
          ]
        }
      ]
    },
    {
      "cell_type": "code",
      "source": [
        "from scipy import stats\n",
        "#perfoming ttest\n",
        "t_statistic, p_value = stats.ttest_ind(array, array2)\n",
        "print(\"T-statistic:\", t_statistic)\n",
        "print(\"P-value:\", p_value)\n",
        "# Insight\n",
        "if p_value < 0.05:\n",
        "    print(\"There is a significative difference between the two sets.\")\n",
        "else:\n",
        "    print(\"There is no significative difference between the two sets.\")\n"
      ],
      "metadata": {
        "colab": {
          "base_uri": "https://localhost:8080/"
        },
        "id": "R7pr6TFc-pW9",
        "outputId": "0110fa3e-e4dd-4a15-f21b-57e4be2a18b4"
      },
      "execution_count": 83,
      "outputs": [
        {
          "output_type": "stream",
          "name": "stdout",
          "text": [
            "T-statistic: -2.059842837585331\n",
            "P-value: 0.04072163596298365\n",
            "There is a significative difference between the two sets.\n"
          ]
        }
      ]
    },
    {
      "cell_type": "markdown",
      "source": [
        "##🌟 Exercise 5 : Working with DataFrames using scipy\n"
      ],
      "metadata": {
        "id": "gXGb9pC5ALlK"
      }
    },
    {
      "cell_type": "code",
      "source": [
        "df = pd.read_csv('Iris.csv')\n",
        "df.head()"
      ],
      "metadata": {
        "colab": {
          "base_uri": "https://localhost:8080/",
          "height": 206
        },
        "id": "hPmpRqZG_EsU",
        "outputId": "29c8e6ad-2f4d-4b5a-fe7f-e5460b81b158"
      },
      "execution_count": 84,
      "outputs": [
        {
          "output_type": "execute_result",
          "data": {
            "text/plain": [
              "   Id  SepalLengthCm  SepalWidthCm  PetalLengthCm  PetalWidthCm      Species\n",
              "0   1            5.1           3.5            1.4           0.2  Iris-setosa\n",
              "1   2            4.9           3.0            1.4           0.2  Iris-setosa\n",
              "2   3            4.7           3.2            1.3           0.2  Iris-setosa\n",
              "3   4            4.6           3.1            1.5           0.2  Iris-setosa\n",
              "4   5            5.0           3.6            1.4           0.2  Iris-setosa"
            ],
            "text/html": [
              "\n",
              "  <div id=\"df-115ae1c3-f677-4b66-aca3-d4dd5c6b9826\" class=\"colab-df-container\">\n",
              "    <div>\n",
              "<style scoped>\n",
              "    .dataframe tbody tr th:only-of-type {\n",
              "        vertical-align: middle;\n",
              "    }\n",
              "\n",
              "    .dataframe tbody tr th {\n",
              "        vertical-align: top;\n",
              "    }\n",
              "\n",
              "    .dataframe thead th {\n",
              "        text-align: right;\n",
              "    }\n",
              "</style>\n",
              "<table border=\"1\" class=\"dataframe\">\n",
              "  <thead>\n",
              "    <tr style=\"text-align: right;\">\n",
              "      <th></th>\n",
              "      <th>Id</th>\n",
              "      <th>SepalLengthCm</th>\n",
              "      <th>SepalWidthCm</th>\n",
              "      <th>PetalLengthCm</th>\n",
              "      <th>PetalWidthCm</th>\n",
              "      <th>Species</th>\n",
              "    </tr>\n",
              "  </thead>\n",
              "  <tbody>\n",
              "    <tr>\n",
              "      <th>0</th>\n",
              "      <td>1</td>\n",
              "      <td>5.1</td>\n",
              "      <td>3.5</td>\n",
              "      <td>1.4</td>\n",
              "      <td>0.2</td>\n",
              "      <td>Iris-setosa</td>\n",
              "    </tr>\n",
              "    <tr>\n",
              "      <th>1</th>\n",
              "      <td>2</td>\n",
              "      <td>4.9</td>\n",
              "      <td>3.0</td>\n",
              "      <td>1.4</td>\n",
              "      <td>0.2</td>\n",
              "      <td>Iris-setosa</td>\n",
              "    </tr>\n",
              "    <tr>\n",
              "      <th>2</th>\n",
              "      <td>3</td>\n",
              "      <td>4.7</td>\n",
              "      <td>3.2</td>\n",
              "      <td>1.3</td>\n",
              "      <td>0.2</td>\n",
              "      <td>Iris-setosa</td>\n",
              "    </tr>\n",
              "    <tr>\n",
              "      <th>3</th>\n",
              "      <td>4</td>\n",
              "      <td>4.6</td>\n",
              "      <td>3.1</td>\n",
              "      <td>1.5</td>\n",
              "      <td>0.2</td>\n",
              "      <td>Iris-setosa</td>\n",
              "    </tr>\n",
              "    <tr>\n",
              "      <th>4</th>\n",
              "      <td>5</td>\n",
              "      <td>5.0</td>\n",
              "      <td>3.6</td>\n",
              "      <td>1.4</td>\n",
              "      <td>0.2</td>\n",
              "      <td>Iris-setosa</td>\n",
              "    </tr>\n",
              "  </tbody>\n",
              "</table>\n",
              "</div>\n",
              "    <div class=\"colab-df-buttons\">\n",
              "\n",
              "  <div class=\"colab-df-container\">\n",
              "    <button class=\"colab-df-convert\" onclick=\"convertToInteractive('df-115ae1c3-f677-4b66-aca3-d4dd5c6b9826')\"\n",
              "            title=\"Convert this dataframe to an interactive table.\"\n",
              "            style=\"display:none;\">\n",
              "\n",
              "  <svg xmlns=\"http://www.w3.org/2000/svg\" height=\"24px\" viewBox=\"0 -960 960 960\">\n",
              "    <path d=\"M120-120v-720h720v720H120Zm60-500h600v-160H180v160Zm220 220h160v-160H400v160Zm0 220h160v-160H400v160ZM180-400h160v-160H180v160Zm440 0h160v-160H620v160ZM180-180h160v-160H180v160Zm440 0h160v-160H620v160Z\"/>\n",
              "  </svg>\n",
              "    </button>\n",
              "\n",
              "  <style>\n",
              "    .colab-df-container {\n",
              "      display:flex;\n",
              "      gap: 12px;\n",
              "    }\n",
              "\n",
              "    .colab-df-convert {\n",
              "      background-color: #E8F0FE;\n",
              "      border: none;\n",
              "      border-radius: 50%;\n",
              "      cursor: pointer;\n",
              "      display: none;\n",
              "      fill: #1967D2;\n",
              "      height: 32px;\n",
              "      padding: 0 0 0 0;\n",
              "      width: 32px;\n",
              "    }\n",
              "\n",
              "    .colab-df-convert:hover {\n",
              "      background-color: #E2EBFA;\n",
              "      box-shadow: 0px 1px 2px rgba(60, 64, 67, 0.3), 0px 1px 3px 1px rgba(60, 64, 67, 0.15);\n",
              "      fill: #174EA6;\n",
              "    }\n",
              "\n",
              "    .colab-df-buttons div {\n",
              "      margin-bottom: 4px;\n",
              "    }\n",
              "\n",
              "    [theme=dark] .colab-df-convert {\n",
              "      background-color: #3B4455;\n",
              "      fill: #D2E3FC;\n",
              "    }\n",
              "\n",
              "    [theme=dark] .colab-df-convert:hover {\n",
              "      background-color: #434B5C;\n",
              "      box-shadow: 0px 1px 3px 1px rgba(0, 0, 0, 0.15);\n",
              "      filter: drop-shadow(0px 1px 2px rgba(0, 0, 0, 0.3));\n",
              "      fill: #FFFFFF;\n",
              "    }\n",
              "  </style>\n",
              "\n",
              "    <script>\n",
              "      const buttonEl =\n",
              "        document.querySelector('#df-115ae1c3-f677-4b66-aca3-d4dd5c6b9826 button.colab-df-convert');\n",
              "      buttonEl.style.display =\n",
              "        google.colab.kernel.accessAllowed ? 'block' : 'none';\n",
              "\n",
              "      async function convertToInteractive(key) {\n",
              "        const element = document.querySelector('#df-115ae1c3-f677-4b66-aca3-d4dd5c6b9826');\n",
              "        const dataTable =\n",
              "          await google.colab.kernel.invokeFunction('convertToInteractive',\n",
              "                                                    [key], {});\n",
              "        if (!dataTable) return;\n",
              "\n",
              "        const docLinkHtml = 'Like what you see? Visit the ' +\n",
              "          '<a target=\"_blank\" href=https://colab.research.google.com/notebooks/data_table.ipynb>data table notebook</a>'\n",
              "          + ' to learn more about interactive tables.';\n",
              "        element.innerHTML = '';\n",
              "        dataTable['output_type'] = 'display_data';\n",
              "        await google.colab.output.renderOutput(dataTable, element);\n",
              "        const docLink = document.createElement('div');\n",
              "        docLink.innerHTML = docLinkHtml;\n",
              "        element.appendChild(docLink);\n",
              "      }\n",
              "    </script>\n",
              "  </div>\n",
              "\n",
              "\n",
              "<div id=\"df-5fc5e19e-8d34-4829-9d3a-850b2ecc5568\">\n",
              "  <button class=\"colab-df-quickchart\" onclick=\"quickchart('df-5fc5e19e-8d34-4829-9d3a-850b2ecc5568')\"\n",
              "            title=\"Suggest charts\"\n",
              "            style=\"display:none;\">\n",
              "\n",
              "<svg xmlns=\"http://www.w3.org/2000/svg\" height=\"24px\"viewBox=\"0 0 24 24\"\n",
              "     width=\"24px\">\n",
              "    <g>\n",
              "        <path d=\"M19 3H5c-1.1 0-2 .9-2 2v14c0 1.1.9 2 2 2h14c1.1 0 2-.9 2-2V5c0-1.1-.9-2-2-2zM9 17H7v-7h2v7zm4 0h-2V7h2v10zm4 0h-2v-4h2v4z\"/>\n",
              "    </g>\n",
              "</svg>\n",
              "  </button>\n",
              "\n",
              "<style>\n",
              "  .colab-df-quickchart {\n",
              "      --bg-color: #E8F0FE;\n",
              "      --fill-color: #1967D2;\n",
              "      --hover-bg-color: #E2EBFA;\n",
              "      --hover-fill-color: #174EA6;\n",
              "      --disabled-fill-color: #AAA;\n",
              "      --disabled-bg-color: #DDD;\n",
              "  }\n",
              "\n",
              "  [theme=dark] .colab-df-quickchart {\n",
              "      --bg-color: #3B4455;\n",
              "      --fill-color: #D2E3FC;\n",
              "      --hover-bg-color: #434B5C;\n",
              "      --hover-fill-color: #FFFFFF;\n",
              "      --disabled-bg-color: #3B4455;\n",
              "      --disabled-fill-color: #666;\n",
              "  }\n",
              "\n",
              "  .colab-df-quickchart {\n",
              "    background-color: var(--bg-color);\n",
              "    border: none;\n",
              "    border-radius: 50%;\n",
              "    cursor: pointer;\n",
              "    display: none;\n",
              "    fill: var(--fill-color);\n",
              "    height: 32px;\n",
              "    padding: 0;\n",
              "    width: 32px;\n",
              "  }\n",
              "\n",
              "  .colab-df-quickchart:hover {\n",
              "    background-color: var(--hover-bg-color);\n",
              "    box-shadow: 0 1px 2px rgba(60, 64, 67, 0.3), 0 1px 3px 1px rgba(60, 64, 67, 0.15);\n",
              "    fill: var(--button-hover-fill-color);\n",
              "  }\n",
              "\n",
              "  .colab-df-quickchart-complete:disabled,\n",
              "  .colab-df-quickchart-complete:disabled:hover {\n",
              "    background-color: var(--disabled-bg-color);\n",
              "    fill: var(--disabled-fill-color);\n",
              "    box-shadow: none;\n",
              "  }\n",
              "\n",
              "  .colab-df-spinner {\n",
              "    border: 2px solid var(--fill-color);\n",
              "    border-color: transparent;\n",
              "    border-bottom-color: var(--fill-color);\n",
              "    animation:\n",
              "      spin 1s steps(1) infinite;\n",
              "  }\n",
              "\n",
              "  @keyframes spin {\n",
              "    0% {\n",
              "      border-color: transparent;\n",
              "      border-bottom-color: var(--fill-color);\n",
              "      border-left-color: var(--fill-color);\n",
              "    }\n",
              "    20% {\n",
              "      border-color: transparent;\n",
              "      border-left-color: var(--fill-color);\n",
              "      border-top-color: var(--fill-color);\n",
              "    }\n",
              "    30% {\n",
              "      border-color: transparent;\n",
              "      border-left-color: var(--fill-color);\n",
              "      border-top-color: var(--fill-color);\n",
              "      border-right-color: var(--fill-color);\n",
              "    }\n",
              "    40% {\n",
              "      border-color: transparent;\n",
              "      border-right-color: var(--fill-color);\n",
              "      border-top-color: var(--fill-color);\n",
              "    }\n",
              "    60% {\n",
              "      border-color: transparent;\n",
              "      border-right-color: var(--fill-color);\n",
              "    }\n",
              "    80% {\n",
              "      border-color: transparent;\n",
              "      border-right-color: var(--fill-color);\n",
              "      border-bottom-color: var(--fill-color);\n",
              "    }\n",
              "    90% {\n",
              "      border-color: transparent;\n",
              "      border-bottom-color: var(--fill-color);\n",
              "    }\n",
              "  }\n",
              "</style>\n",
              "\n",
              "  <script>\n",
              "    async function quickchart(key) {\n",
              "      const quickchartButtonEl =\n",
              "        document.querySelector('#' + key + ' button');\n",
              "      quickchartButtonEl.disabled = true;  // To prevent multiple clicks.\n",
              "      quickchartButtonEl.classList.add('colab-df-spinner');\n",
              "      try {\n",
              "        const charts = await google.colab.kernel.invokeFunction(\n",
              "            'suggestCharts', [key], {});\n",
              "      } catch (error) {\n",
              "        console.error('Error during call to suggestCharts:', error);\n",
              "      }\n",
              "      quickchartButtonEl.classList.remove('colab-df-spinner');\n",
              "      quickchartButtonEl.classList.add('colab-df-quickchart-complete');\n",
              "    }\n",
              "    (() => {\n",
              "      let quickchartButtonEl =\n",
              "        document.querySelector('#df-5fc5e19e-8d34-4829-9d3a-850b2ecc5568 button');\n",
              "      quickchartButtonEl.style.display =\n",
              "        google.colab.kernel.accessAllowed ? 'block' : 'none';\n",
              "    })();\n",
              "  </script>\n",
              "</div>\n",
              "\n",
              "    </div>\n",
              "  </div>\n"
            ],
            "application/vnd.google.colaboratory.intrinsic+json": {
              "type": "dataframe",
              "variable_name": "df",
              "summary": "{\n  \"name\": \"df\",\n  \"rows\": 150,\n  \"fields\": [\n    {\n      \"column\": \"Id\",\n      \"properties\": {\n        \"dtype\": \"number\",\n        \"std\": 43,\n        \"min\": 1,\n        \"max\": 150,\n        \"num_unique_values\": 150,\n        \"samples\": [\n          74,\n          19,\n          119\n        ],\n        \"semantic_type\": \"\",\n        \"description\": \"\"\n      }\n    },\n    {\n      \"column\": \"SepalLengthCm\",\n      \"properties\": {\n        \"dtype\": \"number\",\n        \"std\": 0.8280661279778629,\n        \"min\": 4.3,\n        \"max\": 7.9,\n        \"num_unique_values\": 35,\n        \"samples\": [\n          6.2,\n          4.5,\n          5.6\n        ],\n        \"semantic_type\": \"\",\n        \"description\": \"\"\n      }\n    },\n    {\n      \"column\": \"SepalWidthCm\",\n      \"properties\": {\n        \"dtype\": \"number\",\n        \"std\": 0.4335943113621737,\n        \"min\": 2.0,\n        \"max\": 4.4,\n        \"num_unique_values\": 23,\n        \"samples\": [\n          2.3,\n          4.0,\n          3.5\n        ],\n        \"semantic_type\": \"\",\n        \"description\": \"\"\n      }\n    },\n    {\n      \"column\": \"PetalLengthCm\",\n      \"properties\": {\n        \"dtype\": \"number\",\n        \"std\": 1.7644204199522617,\n        \"min\": 1.0,\n        \"max\": 6.9,\n        \"num_unique_values\": 43,\n        \"samples\": [\n          6.7,\n          3.8,\n          3.7\n        ],\n        \"semantic_type\": \"\",\n        \"description\": \"\"\n      }\n    },\n    {\n      \"column\": \"PetalWidthCm\",\n      \"properties\": {\n        \"dtype\": \"number\",\n        \"std\": 0.7631607417008414,\n        \"min\": 0.1,\n        \"max\": 2.5,\n        \"num_unique_values\": 22,\n        \"samples\": [\n          0.2,\n          1.2,\n          1.3\n        ],\n        \"semantic_type\": \"\",\n        \"description\": \"\"\n      }\n    },\n    {\n      \"column\": \"Species\",\n      \"properties\": {\n        \"dtype\": \"category\",\n        \"num_unique_values\": 3,\n        \"samples\": [\n          \"Iris-setosa\",\n          \"Iris-versicolor\",\n          \"Iris-virginica\"\n        ],\n        \"semantic_type\": \"\",\n        \"description\": \"\"\n      }\n    }\n  ]\n}"
            }
          },
          "metadata": {},
          "execution_count": 84
        }
      ]
    },
    {
      "cell_type": "code",
      "source": [
        "\n",
        "\n",
        "array = df['SepalLengthCm'].to_numpy()\n",
        "print(array)\n",
        "\n",
        "mean_value = stats.tmean(array)\n",
        "print(\"Mean:\", mean_value)\n",
        "\n",
        "median_value = stats.scoreatpercentile(data, 50)\n",
        "print(\"Median:\", median_value)\n",
        "\n",
        "mode_value = stats.mode(array)\n",
        "print(\"Mode:\", mode_value)\n",
        "\n",
        "variance_value = stats.tvar(array)\n",
        "print(\"Variance:\", variance_value)\n",
        "\n",
        "std_dev_value = stats.tstd(array)\n",
        "print(\"Standard Deviation:\", std_dev_value)\n",
        "\n",
        "max_value = np.max(array)\n",
        "print(\"Maximum:\", max_value)\n",
        "\n",
        "min_value = np.min(array)\n",
        "print(\"Minimum:\", min_value)\n",
        "\n",
        "\n",
        "q1 = np.percentile(array, 25)\n",
        "q3 = np.percentile(array, 75)\n",
        "iqr = q3 - q1\n",
        "\n",
        "print(\"First Quartile (Q1):\", q1)\n",
        "print(\"Third Quartile (Q3):\", q3)\n",
        "print(\"Interquartile Range (IQR):\", iqr)\n"
      ],
      "metadata": {
        "colab": {
          "base_uri": "https://localhost:8080/"
        },
        "id": "owyeVXchBZ4U",
        "outputId": "3c4d08aa-9ee9-4be7-cf8e-cb66356d4a54"
      },
      "execution_count": 105,
      "outputs": [
        {
          "output_type": "stream",
          "name": "stdout",
          "text": [
            "[5.1 4.9 4.7 4.6 5.  5.4 4.6 5.  4.4 4.9 5.4 4.8 4.8 4.3 5.8 5.7 5.4 5.1\n",
            " 5.7 5.1 5.4 5.1 4.6 5.1 4.8 5.  5.  5.2 5.2 4.7 4.8 5.4 5.2 5.5 4.9 5.\n",
            " 5.5 4.9 4.4 5.1 5.  4.5 4.4 5.  5.1 4.8 5.1 4.6 5.3 5.  7.  6.4 6.9 5.5\n",
            " 6.5 5.7 6.3 4.9 6.6 5.2 5.  5.9 6.  6.1 5.6 6.7 5.6 5.8 6.2 5.6 5.9 6.1\n",
            " 6.3 6.1 6.4 6.6 6.8 6.7 6.  5.7 5.5 5.5 5.8 6.  5.4 6.  6.7 6.3 5.6 5.5\n",
            " 5.5 6.1 5.8 5.  5.6 5.7 5.7 6.2 5.1 5.7 6.3 5.8 7.1 6.3 6.5 7.6 4.9 7.3\n",
            " 6.7 7.2 6.5 6.4 6.8 5.7 5.8 6.4 6.5 7.7 7.7 6.  6.9 5.6 7.7 6.3 6.7 7.2\n",
            " 6.2 6.1 6.4 7.2 7.4 7.9 6.4 6.3 6.1 7.7 6.3 6.4 6.  6.9 6.7 6.9 5.8 6.8\n",
            " 6.7 6.7 6.3 6.5 6.2 5.9]\n",
            "Mean: 5.843333333333334\n",
            "Median: 16.5\n",
            "Mode: ModeResult(mode=5.0, count=10)\n",
            "Variance: 0.6856935123042507\n",
            "Standard Deviation: 0.828066127977863\n",
            "Maximum: 7.9\n",
            "Minimum: 4.3\n",
            "First Quartile (Q1): 5.1\n",
            "Third Quartile (Q3): 6.4\n",
            "Interquartile Range (IQR): 1.3000000000000007\n"
          ]
        }
      ]
    },
    {
      "cell_type": "markdown",
      "source": [
        "##🌟 Exercise 6 : Advanced Statistical Functions"
      ],
      "metadata": {
        "id": "yF_t9_6YKHq7"
      }
    },
    {
      "cell_type": "code",
      "source": [
        "from ctypes import Array\n",
        "import numpy as np\n",
        "from scipy.stats import kurtosis, skew\n",
        "\n",
        "np.random.seed(42)\n",
        "\n",
        "# Generating an array of 1000 random numbers\n",
        "array = np.random.normal(0, 1, 1000)\n",
        "\n",
        "# Calulating the skewness\n",
        "skewness = skew(array)\n",
        "\n",
        "# Calculating the kurtosis\n",
        "kurt = kurtosis(array)\n",
        "\n",
        "# Displaying the result\n",
        "print(\"Skewness (Asymétrie):\", skewness)\n",
        "print(\"Kurtosis (Aplatissement):\", kurt)\n"
      ],
      "metadata": {
        "colab": {
          "base_uri": "https://localhost:8080/"
        },
        "id": "B4jsICDJKJ2X",
        "outputId": "2136fa9d-3bb5-4060-d88f-a71d63a92bd2"
      },
      "execution_count": 115,
      "outputs": [
        {
          "output_type": "stream",
          "name": "stdout",
          "text": [
            "Skewness (Asymétrie): 0.11680083110533511\n",
            "Kurtosis (Aplatissement): 0.06620589292148393\n"
          ]
        }
      ]
    },
    {
      "cell_type": "markdown",
      "source": [
        "Insights and Interpretation:\n",
        "\n",
        "- Skewness: is close to 0 so the distribution is symmetric\n",
        "- Kurtosis: is close to 0 that idicate thats a normal distribution\n",
        "- Usefulness: In data analysis, skewness helps detect asymmetry, while kurtosis\n",
        "evaluate the weight of the tails compared to the normal distribution.\n",
        "these are particularly useful to detect anomalies or verifying normality assumption"
      ],
      "metadata": {
        "id": "AXwGUblQNASX"
      }
    }
  ]
}